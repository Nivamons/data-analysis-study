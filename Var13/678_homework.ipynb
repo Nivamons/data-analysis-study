{
 "cells": [
  {
   "cell_type": "markdown",
   "id": "613d1884",
   "metadata": {},
   "source": [
    "# Практическая работа №6"
   ]
  },
  {
   "cell_type": "code",
   "execution_count": 2,
   "id": "ccb77df1",
   "metadata": {},
   "outputs": [
    {
     "data": {
      "text/html": [
       "<div>\n",
       "<style scoped>\n",
       "    .dataframe tbody tr th:only-of-type {\n",
       "        vertical-align: middle;\n",
       "    }\n",
       "\n",
       "    .dataframe tbody tr th {\n",
       "        vertical-align: top;\n",
       "    }\n",
       "\n",
       "    .dataframe thead th {\n",
       "        text-align: right;\n",
       "    }\n",
       "</style>\n",
       "<table border=\"1\" class=\"dataframe\">\n",
       "  <thead>\n",
       "    <tr style=\"text-align: right;\">\n",
       "      <th></th>\n",
       "      <th>Penalties</th>\n",
       "      <th>Composure</th>\n",
       "    </tr>\n",
       "    <tr>\n",
       "      <th>Nationality</th>\n",
       "      <th></th>\n",
       "      <th></th>\n",
       "    </tr>\n",
       "  </thead>\n",
       "  <tbody>\n",
       "    <tr>\n",
       "      <th>England</th>\n",
       "      <td>63197</td>\n",
       "      <td>54.122076</td>\n",
       "    </tr>\n",
       "  </tbody>\n",
       "</table>\n",
       "</div>"
      ],
      "text/plain": [
       "             Penalties  Composure\n",
       "Nationality                      \n",
       "England          63197  54.122076"
      ]
     },
     "execution_count": 2,
     "metadata": {},
     "output_type": "execute_result"
    }
   ],
   "source": [
    "import numpy as np\n",
    "import pandas as pd\n",
    "\n",
    "df = pd.read_csv('../football.csv')\n",
    "\n",
    "A = np.mean(df['Composure'])\n",
    "B = df[['Nationality','Penalties']]\n",
    "C = df.groupby('Nationality').agg({'Penalties':'sum', 'Composure': 'mean'})\n",
    "F = max(C['Penalties'])\n",
    "G = C.loc[C['Penalties'] == F]\n",
    "G"
   ]
  },
  {
   "cell_type": "code",
   "execution_count": 6,
   "id": "1a1ee42b",
   "metadata": {},
   "outputs": [
    {
     "data": {
      "text/plain": [
       "count    12897.000000\n",
       "mean        55.942932\n",
       "std         11.280631\n",
       "min         12.000000\n",
       "25%         49.000000\n",
       "50%         56.000000\n",
       "75%         63.000000\n",
       "max         96.000000\n",
       "Name: Composure, dtype: float64"
      ]
     },
     "execution_count": 6,
     "metadata": {},
     "output_type": "execute_result"
    }
   ],
   "source": [
    "df['Composure'].describe()"
   ]
  },
  {
   "cell_type": "markdown",
   "id": "a0cb2508",
   "metadata": {},
   "source": [
    "# Практическая работа №7"
   ]
  },
  {
   "cell_type": "markdown",
   "id": "d1bfb653",
   "metadata": {},
   "source": [
    "### задание А"
   ]
  },
  {
   "cell_type": "code",
   "execution_count": 44,
   "id": "264ba376",
   "metadata": {},
   "outputs": [
    {
     "name": "stdout",
     "output_type": "stream",
     "text": [
      "{'some college', 'some high school', \"master's degree\", \"bachelor's degree\", \"associate's degree\", 'high school'}\n"
     ]
    },
    {
     "data": {
      "text/plain": [
       "6"
      ]
     },
     "execution_count": 44,
     "metadata": {},
     "output_type": "execute_result"
    }
   ],
   "source": [
    "import numpy as np\n",
    "import pandas as pd\n",
    "\n",
    "df = pd.read_csv('../StudentsPerformance.csv')\n",
    "\n",
    "g = list(df['parental level of education'])\n",
    "g=set(g)\n",
    "print(g)\n",
    "len(g)"
   ]
  },
  {
   "cell_type": "markdown",
   "id": "8ed28461",
   "metadata": {},
   "source": [
    "### задание B"
   ]
  },
  {
   "cell_type": "code",
   "execution_count": 101,
   "id": "be6be245",
   "metadata": {},
   "outputs": [
    {
     "data": {
      "text/html": [
       "<div>\n",
       "<style scoped>\n",
       "    .dataframe tbody tr th:only-of-type {\n",
       "        vertical-align: middle;\n",
       "    }\n",
       "\n",
       "    .dataframe tbody tr th {\n",
       "        vertical-align: top;\n",
       "    }\n",
       "\n",
       "    .dataframe thead th {\n",
       "        text-align: right;\n",
       "    }\n",
       "</style>\n",
       "<table border=\"1\" class=\"dataframe\">\n",
       "  <thead>\n",
       "    <tr style=\"text-align: right;\">\n",
       "      <th></th>\n",
       "      <th>gender</th>\n",
       "      <th>race/ethnicity</th>\n",
       "      <th>parental level of education</th>\n",
       "      <th>lunch</th>\n",
       "      <th>test preparation course</th>\n",
       "      <th>math score</th>\n",
       "      <th>reading score</th>\n",
       "      <th>writing score</th>\n",
       "      <th>concatinate</th>\n",
       "    </tr>\n",
       "  </thead>\n",
       "  <tbody>\n",
       "    <tr>\n",
       "      <th>0</th>\n",
       "      <td>female</td>\n",
       "      <td>group B</td>\n",
       "      <td>bachelor's degree</td>\n",
       "      <td>standard</td>\n",
       "      <td>none</td>\n",
       "      <td>72</td>\n",
       "      <td>72</td>\n",
       "      <td>74</td>\n",
       "      <td>bachendard</td>\n",
       "    </tr>\n",
       "    <tr>\n",
       "      <th>1</th>\n",
       "      <td>female</td>\n",
       "      <td>group C</td>\n",
       "      <td>some college</td>\n",
       "      <td>standard</td>\n",
       "      <td>completed</td>\n",
       "      <td>69</td>\n",
       "      <td>90</td>\n",
       "      <td>88</td>\n",
       "      <td>somecndard</td>\n",
       "    </tr>\n",
       "    <tr>\n",
       "      <th>2</th>\n",
       "      <td>female</td>\n",
       "      <td>group B</td>\n",
       "      <td>master's degree</td>\n",
       "      <td>standard</td>\n",
       "      <td>none</td>\n",
       "      <td>90</td>\n",
       "      <td>95</td>\n",
       "      <td>93</td>\n",
       "      <td>mastendard</td>\n",
       "    </tr>\n",
       "    <tr>\n",
       "      <th>3</th>\n",
       "      <td>male</td>\n",
       "      <td>group A</td>\n",
       "      <td>associate's degree</td>\n",
       "      <td>free/reduced</td>\n",
       "      <td>none</td>\n",
       "      <td>47</td>\n",
       "      <td>57</td>\n",
       "      <td>44</td>\n",
       "      <td>assocduced</td>\n",
       "    </tr>\n",
       "    <tr>\n",
       "      <th>4</th>\n",
       "      <td>male</td>\n",
       "      <td>group C</td>\n",
       "      <td>some college</td>\n",
       "      <td>standard</td>\n",
       "      <td>none</td>\n",
       "      <td>76</td>\n",
       "      <td>78</td>\n",
       "      <td>75</td>\n",
       "      <td>somecndard</td>\n",
       "    </tr>\n",
       "    <tr>\n",
       "      <th>...</th>\n",
       "      <td>...</td>\n",
       "      <td>...</td>\n",
       "      <td>...</td>\n",
       "      <td>...</td>\n",
       "      <td>...</td>\n",
       "      <td>...</td>\n",
       "      <td>...</td>\n",
       "      <td>...</td>\n",
       "      <td>...</td>\n",
       "    </tr>\n",
       "    <tr>\n",
       "      <th>995</th>\n",
       "      <td>female</td>\n",
       "      <td>group E</td>\n",
       "      <td>master's degree</td>\n",
       "      <td>standard</td>\n",
       "      <td>completed</td>\n",
       "      <td>88</td>\n",
       "      <td>99</td>\n",
       "      <td>95</td>\n",
       "      <td>mastendard</td>\n",
       "    </tr>\n",
       "    <tr>\n",
       "      <th>996</th>\n",
       "      <td>male</td>\n",
       "      <td>group C</td>\n",
       "      <td>high school</td>\n",
       "      <td>free/reduced</td>\n",
       "      <td>none</td>\n",
       "      <td>62</td>\n",
       "      <td>55</td>\n",
       "      <td>55</td>\n",
       "      <td>highsduced</td>\n",
       "    </tr>\n",
       "    <tr>\n",
       "      <th>997</th>\n",
       "      <td>female</td>\n",
       "      <td>group C</td>\n",
       "      <td>high school</td>\n",
       "      <td>free/reduced</td>\n",
       "      <td>completed</td>\n",
       "      <td>59</td>\n",
       "      <td>71</td>\n",
       "      <td>65</td>\n",
       "      <td>highsduced</td>\n",
       "    </tr>\n",
       "    <tr>\n",
       "      <th>998</th>\n",
       "      <td>female</td>\n",
       "      <td>group D</td>\n",
       "      <td>some college</td>\n",
       "      <td>standard</td>\n",
       "      <td>completed</td>\n",
       "      <td>68</td>\n",
       "      <td>78</td>\n",
       "      <td>77</td>\n",
       "      <td>somecndard</td>\n",
       "    </tr>\n",
       "    <tr>\n",
       "      <th>999</th>\n",
       "      <td>female</td>\n",
       "      <td>group D</td>\n",
       "      <td>some college</td>\n",
       "      <td>free/reduced</td>\n",
       "      <td>none</td>\n",
       "      <td>77</td>\n",
       "      <td>86</td>\n",
       "      <td>86</td>\n",
       "      <td>somecduced</td>\n",
       "    </tr>\n",
       "  </tbody>\n",
       "</table>\n",
       "<p>1000 rows × 9 columns</p>\n",
       "</div>"
      ],
      "text/plain": [
       "     gender race/ethnicity parental level of education         lunch  \\\n",
       "0    female        group B           bachelor's degree      standard   \n",
       "1    female        group C                some college      standard   \n",
       "2    female        group B             master's degree      standard   \n",
       "3      male        group A          associate's degree  free/reduced   \n",
       "4      male        group C                some college      standard   \n",
       "..      ...            ...                         ...           ...   \n",
       "995  female        group E             master's degree      standard   \n",
       "996    male        group C                 high school  free/reduced   \n",
       "997  female        group C                 high school  free/reduced   \n",
       "998  female        group D                some college      standard   \n",
       "999  female        group D                some college  free/reduced   \n",
       "\n",
       "    test preparation course  math score  reading score  writing score  \\\n",
       "0                      none          72             72             74   \n",
       "1                 completed          69             90             88   \n",
       "2                      none          90             95             93   \n",
       "3                      none          47             57             44   \n",
       "4                      none          76             78             75   \n",
       "..                      ...         ...            ...            ...   \n",
       "995               completed          88             99             95   \n",
       "996                    none          62             55             55   \n",
       "997               completed          59             71             65   \n",
       "998               completed          68             78             77   \n",
       "999                    none          77             86             86   \n",
       "\n",
       "    concatinate  \n",
       "0    bachendard  \n",
       "1    somecndard  \n",
       "2    mastendard  \n",
       "3    assocduced  \n",
       "4    somecndard  \n",
       "..          ...  \n",
       "995  mastendard  \n",
       "996  highsduced  \n",
       "997  highsduced  \n",
       "998  somecndard  \n",
       "999  somecduced  \n",
       "\n",
       "[1000 rows x 9 columns]"
      ]
     },
     "execution_count": 101,
     "metadata": {},
     "output_type": "execute_result"
    }
   ],
   "source": [
    "def concatinate(row): \n",
    "    f=list(row[2])\n",
    "    s=list(row[3])\n",
    "    fst=str()\n",
    "    g=0\n",
    "    k=0\n",
    "    for i in f:\n",
    "        if i != ' ' and g<5:\n",
    "            fst += i\n",
    "            g+=1\n",
    "    for i in range(-5,len(s)):\n",
    "        if s[i] != ' ' and k<5:\n",
    "            fst += str(s[i])\n",
    "            k+=1\n",
    "    return fst\n",
    "\n",
    "conc = map(lambda x: concatinate(list(df.iloc[x])), range(len(df['parental level of education'])))\n",
    "\n",
    "df['concatinate'] = list(conc)\n",
    "df"
   ]
  },
  {
   "cell_type": "markdown",
   "id": "236f5334",
   "metadata": {},
   "source": [
    "# Практическая работа №8"
   ]
  },
  {
   "cell_type": "markdown",
   "id": "3edb2ce3",
   "metadata": {},
   "source": [
    "## Задание\n",
    "Самый убыточный фильм за период с 2012 по 2014 гг. (включительно)?"
   ]
  },
  {
   "cell_type": "code",
   "execution_count": 163,
   "id": "14a1213a",
   "metadata": {},
   "outputs": [],
   "source": [
    "import pandas as pd\n",
    "import numpy as np\n",
    "\n",
    "def cost_cast(budget, revenue):\n",
    "    c = revenue - budget\n",
    "    return c\n",
    "\n",
    "\n",
    "df = pd.read_csv('../films.csv')"
   ]
  },
  {
   "cell_type": "code",
   "execution_count": 164,
   "id": "b4ed09d4",
   "metadata": {},
   "outputs": [
    {
     "name": "stdout",
     "output_type": "stream",
     "text": [
      "<class 'pandas.core.frame.DataFrame'>\n",
      "RangeIndex: 1890 entries, 0 to 1889\n",
      "Data columns (total 16 columns):\n",
      " #   Column                Non-Null Count  Dtype  \n",
      "---  ------                --------------  -----  \n",
      " 0   imdb_id               1890 non-null   object \n",
      " 1   popularity            1890 non-null   float64\n",
      " 2   budget                1890 non-null   int64  \n",
      " 3   revenue               1890 non-null   int64  \n",
      " 4   original_title        1890 non-null   object \n",
      " 5   cast                  1890 non-null   object \n",
      " 6   director              1890 non-null   object \n",
      " 7   tagline               1890 non-null   object \n",
      " 8   overview              1890 non-null   object \n",
      " 9   runtime               1890 non-null   int64  \n",
      " 10  genres                1890 non-null   object \n",
      " 11  production_companies  1890 non-null   object \n",
      " 12  release_date          1890 non-null   object \n",
      " 13  vote_count            1890 non-null   int64  \n",
      " 14  vote_average          1890 non-null   float64\n",
      " 15  release_year          1890 non-null   int64  \n",
      "dtypes: float64(2), int64(5), object(9)\n",
      "memory usage: 236.4+ KB\n"
     ]
    }
   ],
   "source": [
    "df.info()"
   ]
  },
  {
   "cell_type": "code",
   "execution_count": 165,
   "id": "f624d356",
   "metadata": {},
   "outputs": [
    {
     "data": {
      "text/plain": [
       "1246    The Lone Ranger\n",
       "Name: original_title, dtype: object"
      ]
     },
     "execution_count": 165,
     "metadata": {},
     "output_type": "execute_result"
    }
   ],
   "source": [
    "df = df.loc[df['release_year'] <= 2014]\n",
    "df = df.loc[df['release_year'] >= 2012]\n",
    "\n",
    "df.loc[:,'cash'] = list(map(cost_cast, df['budget'], df['revenue']))\n",
    "\n",
    "b =min(df['cash'])\n",
    "\n",
    "\n",
    "df['original_title'].loc[df['cash']==b]"
   ]
  },
  {
   "cell_type": "code",
   "execution_count": null,
   "id": "fde00e34",
   "metadata": {},
   "outputs": [],
   "source": []
  }
 ],
 "metadata": {
  "kernelspec": {
   "display_name": "Python 3 (ipykernel)",
   "language": "python",
   "name": "python3"
  },
  "language_info": {
   "codemirror_mode": {
    "name": "ipython",
    "version": 3
   },
   "file_extension": ".py",
   "mimetype": "text/x-python",
   "name": "python",
   "nbconvert_exporter": "python",
   "pygments_lexer": "ipython3",
   "version": "3.9.7"
  }
 },
 "nbformat": 4,
 "nbformat_minor": 5
}
