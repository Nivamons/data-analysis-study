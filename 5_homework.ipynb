{
 "cells": [
  {
   "cell_type": "markdown",
   "id": "7d46951f",
   "metadata": {},
   "source": [
    "# Практическая работа № 5"
   ]
  },
  {
   "cell_type": "code",
   "execution_count": 4,
   "id": "06aa6ad3",
   "metadata": {},
   "outputs": [
    {
     "name": "stdout",
     "output_type": "stream",
     "text": [
      "[[52 53 52 54]\n",
      " [52 51 53 51]\n",
      " [51 54 50 50]\n",
      " [52 52 50 51]\n",
      " [54 51 53 54]]\n"
     ]
    }
   ],
   "source": [
    "import numpy as np #Библиотека NumPy. Импорт библиотеки\n",
    "#Создание массива. Функции array() и values().\n",
    "\n",
    "F = np.random.randint(50,55,(5,4))\n",
    "print(F)"
   ]
  },
  {
   "cell_type": "code",
   "execution_count": 4,
   "id": "f316f24c",
   "metadata": {
    "scrolled": false
   },
   "outputs": [
    {
     "name": "stdout",
     "output_type": "stream",
     "text": [
      "1 4\n",
      "2 3\n",
      "3 2\n",
      "3 4\n",
      "4 2\n",
      "4 3\n",
      "5 2\n",
      "5 3\n",
      "8 Кол-во значений соответствующих минимуму\n",
      "0.49 Стандартное отклонение матрицы, по формулам\n",
      "0.49 Стандартное отклонение матрицы, стандартная функция\n"
     ]
    }
   ],
   "source": [
    "k=0\n",
    "var_my=0\n",
    "for i in range(len(F)):\n",
    "    for g in range(len(F[i])):\n",
    "        var_my += (np.mean(F) - F[i][g])**2\n",
    "        if F[i][g] == np.min(F):\n",
    "            k+=1\n",
    "            print(i+1,g+1)\n",
    "print(k,'Кол-во значений соответствующих минимуму')\n",
    "std_my = np.sqrt(var_my/(len(F)*len(F[1])))\n",
    "print(round(std_my,2),'Стандартное отклонение матрицы, по формулам')\n",
    "print(round(np.std(F),2),'Стандартное отклонение матрицы, стандартная функция')"
   ]
  },
  {
   "cell_type": "code",
   "execution_count": 42,
   "id": "2db3a128",
   "metadata": {},
   "outputs": [
    {
     "data": {
      "text/plain": [
       "5"
      ]
     },
     "execution_count": 42,
     "metadata": {},
     "output_type": "execute_result"
    }
   ],
   "source": [
    "len(F)"
   ]
  },
  {
   "cell_type": "code",
   "execution_count": 61,
   "id": "64f0d0ab",
   "metadata": {},
   "outputs": [
    {
     "data": {
      "text/plain": [
       "2.5"
      ]
     },
     "execution_count": 61,
     "metadata": {},
     "output_type": "execute_result"
    }
   ],
   "source": [
    "round(2.55,1)"
   ]
  },
  {
   "cell_type": "code",
   "execution_count": null,
   "id": "d80975d5",
   "metadata": {},
   "outputs": [],
   "source": []
  }
 ],
 "metadata": {
  "kernelspec": {
   "display_name": "Python 3 (ipykernel)",
   "language": "python",
   "name": "python3"
  },
  "language_info": {
   "codemirror_mode": {
    "name": "ipython",
    "version": 3
   },
   "file_extension": ".py",
   "mimetype": "text/x-python",
   "name": "python",
   "nbconvert_exporter": "python",
   "pygments_lexer": "ipython3",
   "version": "3.9.7"
  }
 },
 "nbformat": 4,
 "nbformat_minor": 5
}
