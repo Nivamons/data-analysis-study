{
 "cells": [
  {
   "cell_type": "markdown",
   "id": "7d8e146f",
   "metadata": {},
   "source": [
    "## Практическая работа №8"
   ]
  },
  {
   "cell_type": "code",
   "execution_count": 2,
   "id": "6c028a42",
   "metadata": {},
   "outputs": [
    {
     "name": "stdout",
     "output_type": "stream",
     "text": [
      "Requirement already satisfied: nbconvert[webpdf] in c:\\users\\monst\\anaconda3\\lib\\site-packages (6.1.0)Note: you may need to restart the kernel to use updated packages.\n",
      "Requirement already satisfied: mistune<2,>=0.8.1 in c:\\users\\monst\\anaconda3\\lib\\site-packages (from nbconvert[webpdf]) (0.8.4)\n",
      "Requirement already satisfied: traitlets>=5.0 in c:\\users\\monst\\anaconda3\\lib\\site-packages (from nbconvert[webpdf]) (5.1.0)\n",
      "Requirement already satisfied: pygments>=2.4.1 in c:\\users\\monst\\anaconda3\\lib\\site-packages (from nbconvert[webpdf]) (2.10.0)\n",
      "Requirement already satisfied: jinja2>=2.4 in c:\\users\\monst\\anaconda3\\lib\\site-packages (from nbconvert[webpdf]) (2.11.3)\n",
      "Requirement already satisfied: nbclient<0.6.0,>=0.5.0 in c:\\users\\monst\\anaconda3\\lib\\site-packages (from nbconvert[webpdf]) (0.5.3)\n",
      "Requirement already satisfied: entrypoints>=0.2.2 in c:\\users\\monst\\anaconda3\\lib\\site-packages (from nbconvert[webpdf]) (0.3)\n",
      "Requirement already satisfied: pandocfilters>=1.4.1 in c:\\users\\monst\\anaconda3\\lib\\site-packages (from nbconvert[webpdf]) (1.4.3)\n",
      "Requirement already satisfied: jupyterlab-pygments in c:\\users\\monst\\anaconda3\\lib\\site-packages (from nbconvert[webpdf]) (0.1.2)\n",
      "Requirement already satisfied: testpath in c:\\users\\monst\\anaconda3\\lib\\site-packages (from nbconvert[webpdf]) (0.5.0)\n",
      "Requirement already satisfied: defusedxml in c:\\users\\monst\\anaconda3\\lib\\site-packages (from nbconvert[webpdf]) (0.7.1)\n",
      "Requirement already satisfied: nbformat>=4.4 in c:\\users\\monst\\anaconda3\\lib\\site-packages (from nbconvert[webpdf]) (5.1.3)\n",
      "Requirement already satisfied: jupyter-core in c:\\users\\monst\\anaconda3\\lib\\site-packages (from nbconvert[webpdf]) (4.8.1)\n",
      "Requirement already satisfied: bleach in c:\\users\\monst\\anaconda3\\lib\\site-packages (from nbconvert[webpdf]) (4.0.0)\n",
      "Collecting pyppeteer==0.2.2\n",
      "  Downloading pyppeteer-0.2.2-py3-none-any.whl (145 kB)\n",
      "Requirement already satisfied: appdirs<2.0.0,>=1.4.3 in c:\\users\\monst\\anaconda3\\lib\\site-packages (from pyppeteer==0.2.2->nbconvert[webpdf]) (1.4.4)\n",
      "Collecting pyee<8.0.0,>=7.0.1\n",
      "  Downloading pyee-7.0.4-py2.py3-none-any.whl (12 kB)\n",
      "Requirement already satisfied: tqdm<5.0.0,>=4.42.1 in c:\\users\\monst\\anaconda3\\lib\\site-packages (from pyppeteer==0.2.2->nbconvert[webpdf]) (4.62.3)\n",
      "Requirement already satisfied: urllib3<2.0.0,>=1.25.8 in c:\\users\\monst\\anaconda3\\lib\\site-packages (from pyppeteer==0.2.2->nbconvert[webpdf]) (1.26.7)\n",
      "Collecting websockets<9.0,>=8.1\n",
      "  Downloading websockets-8.1.tar.gz (58 kB)\n",
      "Requirement already satisfied: MarkupSafe>=0.23 in c:\\users\\monst\\anaconda3\\lib\\site-packages (from jinja2>=2.4->nbconvert[webpdf]) (1.1.1)\n",
      "Requirement already satisfied: async-generator in c:\\users\\monst\\anaconda3\\lib\\site-packages (from nbclient<0.6.0,>=0.5.0->nbconvert[webpdf]) (1.10)\n",
      "Requirement already satisfied: nest-asyncio in c:\\users\\monst\\anaconda3\\lib\\site-packages (from nbclient<0.6.0,>=0.5.0->nbconvert[webpdf]) (1.5.1)\n",
      "Requirement already satisfied: jupyter-client>=6.1.5 in c:\\users\\monst\\anaconda3\\lib\\site-packages (from nbclient<0.6.0,>=0.5.0->nbconvert[webpdf]) (6.1.12)\n",
      "Requirement already satisfied: tornado>=4.1 in c:\\users\\monst\\anaconda3\\lib\\site-packages (from jupyter-client>=6.1.5->nbclient<0.6.0,>=0.5.0->nbconvert[webpdf]) (6.1)\n",
      "Requirement already satisfied: python-dateutil>=2.1 in c:\\users\\monst\\anaconda3\\lib\\site-packages (from jupyter-client>=6.1.5->nbclient<0.6.0,>=0.5.0->nbconvert[webpdf]) (2.8.2)\n",
      "Requirement already satisfied: pyzmq>=13 in c:\\users\\monst\\anaconda3\\lib\\site-packages (from jupyter-client>=6.1.5->nbclient<0.6.0,>=0.5.0->nbconvert[webpdf]) (22.2.1)\n",
      "Requirement already satisfied: pywin32>=1.0 in c:\\users\\monst\\anaconda3\\lib\\site-packages (from jupyter-core->nbconvert[webpdf]) (228)\n",
      "Requirement already satisfied: jsonschema!=2.5.0,>=2.4 in c:\\users\\monst\\anaconda3\\lib\\site-packages (from nbformat>=4.4->nbconvert[webpdf]) (3.2.0)\n",
      "Requirement already satisfied: ipython-genutils in c:\\users\\monst\\anaconda3\\lib\\site-packages (from nbformat>=4.4->nbconvert[webpdf]) (0.2.0)\n",
      "Requirement already satisfied: six>=1.11.0 in c:\\users\\monst\\anaconda3\\lib\\site-packages (from jsonschema!=2.5.0,>=2.4->nbformat>=4.4->nbconvert[webpdf]) (1.16.0)\n",
      "Requirement already satisfied: pyrsistent>=0.14.0 in c:\\users\\monst\\anaconda3\\lib\\site-packages (from jsonschema!=2.5.0,>=2.4->nbformat>=4.4->nbconvert[webpdf]) (0.18.0)\n",
      "Requirement already satisfied: attrs>=17.4.0 in c:\\users\\monst\\anaconda3\\lib\\site-packages (from jsonschema!=2.5.0,>=2.4->nbformat>=4.4->nbconvert[webpdf]) (21.2.0)\n",
      "Requirement already satisfied: setuptools in c:\\users\\monst\\anaconda3\\lib\\site-packages (from jsonschema!=2.5.0,>=2.4->nbformat>=4.4->nbconvert[webpdf]) (58.0.4)\n",
      "Requirement already satisfied: colorama in c:\\users\\monst\\anaconda3\\lib\\site-packages (from tqdm<5.0.0,>=4.42.1->pyppeteer==0.2.2->nbconvert[webpdf]) (0.4.4)\n",
      "Requirement already satisfied: webencodings in c:\\users\\monst\\anaconda3\\lib\\site-packages (from bleach->nbconvert[webpdf]) (0.5.1)\n",
      "Requirement already satisfied: packaging in c:\\users\\monst\\anaconda3\\lib\\site-packages (from bleach->nbconvert[webpdf]) (21.3)\n",
      "Requirement already satisfied: pyparsing!=3.0.5,>=2.0.2 in c:\\users\\monst\\anaconda3\\lib\\site-packages (from packaging->bleach->nbconvert[webpdf]) (3.0.4)\n",
      "Building wheels for collected packages: websockets\n",
      "  Building wheel for websockets (setup.py): started\n",
      "  Building wheel for websockets (setup.py): finished with status 'done'\n",
      "  Created wheel for websockets: filename=websockets-8.1-cp39-cp39-win_amd64.whl size=62758 sha256=9f7e115447ad4e2665ab6d017d53e0bb1f1c9e586ce478814034a36909adcfdc\n",
      "  Stored in directory: c:\\users\\monst\\appdata\\local\\pip\\cache\\wheels\\d8\\b9\\a0\\b97b211aeda2ebd6ac2e43fc300d308dbf1f9df520ed390cae\n",
      "Successfully built websockets\n",
      "Installing collected packages: websockets, pyee, pyppeteer\n",
      "Successfully installed pyee-7.0.4 pyppeteer-0.2.2 websockets-8.1\n",
      "\n"
     ]
    }
   ],
   "source": [
    "pip install nbconvert[webpdf]"
   ]
  },
  {
   "cell_type": "markdown",
   "id": "01ed819e",
   "metadata": {},
   "source": [
    "## Задание\n",
    "Выполните задание с применением собственных функций на основе \n",
    "набора данных films.csv:\n",
    "Какой актер принес меньше всего прибыли в 2012 году?"
   ]
  },
  {
   "cell_type": "markdown",
   "id": "6f7edf58",
   "metadata": {},
   "source": [
    "#### Загружаем библиотеки и загружаем файл csv"
   ]
  },
  {
   "cell_type": "code",
   "execution_count": 2,
   "id": "352e8e10",
   "metadata": {},
   "outputs": [],
   "source": [
    "import pandas as pd\n",
    "import numpy as np\n",
    "\n",
    "df = pd.read_csv('films.csv')\n"
   ]
  },
  {
   "cell_type": "markdown",
   "id": "8abfffa8",
   "metadata": {},
   "source": [
    "#### Смотрим информацию о датафрейме\n",
    "все ли столбцы заполнили, в каком формате значения в данных столбцах, как называются заголовки"
   ]
  },
  {
   "cell_type": "code",
   "execution_count": 3,
   "id": "8d97b84d",
   "metadata": {},
   "outputs": [
    {
     "name": "stdout",
     "output_type": "stream",
     "text": [
      "<class 'pandas.core.frame.DataFrame'>\n",
      "RangeIndex: 1890 entries, 0 to 1889\n",
      "Data columns (total 16 columns):\n",
      " #   Column                Non-Null Count  Dtype  \n",
      "---  ------                --------------  -----  \n",
      " 0   imdb_id               1890 non-null   object \n",
      " 1   popularity            1890 non-null   float64\n",
      " 2   budget                1890 non-null   int64  \n",
      " 3   revenue               1890 non-null   int64  \n",
      " 4   original_title        1890 non-null   object \n",
      " 5   cast                  1890 non-null   object \n",
      " 6   director              1890 non-null   object \n",
      " 7   tagline               1890 non-null   object \n",
      " 8   overview              1890 non-null   object \n",
      " 9   runtime               1890 non-null   int64  \n",
      " 10  genres                1890 non-null   object \n",
      " 11  production_companies  1890 non-null   object \n",
      " 12  release_date          1890 non-null   object \n",
      " 13  vote_count            1890 non-null   int64  \n",
      " 14  vote_average          1890 non-null   float64\n",
      " 15  release_year          1890 non-null   int64  \n",
      "dtypes: float64(2), int64(5), object(9)\n",
      "memory usage: 236.4+ KB\n"
     ]
    }
   ],
   "source": [
    "df.info()"
   ]
  },
  {
   "cell_type": "markdown",
   "id": "3d82537a",
   "metadata": {},
   "source": [
    "####  Изменяем старый датафрейм оставляя фильмы только 2012 года"
   ]
  },
  {
   "cell_type": "code",
   "execution_count": 4,
   "id": "7ef75e9c",
   "metadata": {},
   "outputs": [],
   "source": [
    "df = df.loc[df['release_year'] == 2012]\n"
   ]
  },
  {
   "cell_type": "markdown",
   "id": "b5c490fe",
   "metadata": {},
   "source": [
    "#### Пишем 2 простенькие функции для расчета прибыли / убытка с фильма и создаем списки с актерами\n",
    "Добавляем новый столбец в датафрем с прибылью/убытком за фильм\n",
    "Создаем список всех актеров игравших в фильмах за 2012 год\n",
    "Далее создаем словарь ключ - актер, значение - сумма заработка за 2012 год, до итерации 0\n",
    "Далее проходимся по циклу в цикле и суммируем для каждого актера денги которые заработал фильм в котором они играли"
   ]
  },
  {
   "cell_type": "code",
   "execution_count": 5,
   "id": "c75987f7",
   "metadata": {},
   "outputs": [],
   "source": [
    "def cost_cast(budget, revenue):\n",
    "    c = revenue - budget\n",
    "    return c\n",
    "\n",
    "def split_actor(cast):\n",
    "    list_cast = cast.split('|')\n",
    "    return list_cast\n",
    "\n",
    "\n",
    "df.loc[:,'cash'] = list(map(cost_cast, df['budget'], df['revenue']))\n",
    "\n",
    "list_all_actors = []\n",
    "for i in df['cast']:\n",
    "    list_cast = split_actor(i)\n",
    "    list_all_actors += list_cast\n",
    "set_l = set(list_all_actors)\n",
    "set_l = list(set_l)\n",
    "\n",
    "follow = dict.fromkeys(set_l,0)\n",
    "\n",
    "\n",
    "for g in range(971,1081):\n",
    "    for i in set_l:\n",
    "        if i in split_actor(df['cast'][g]):\n",
    "            follow[i] += int(df['cash'][g])\n",
    "    "
   ]
  },
  {
   "cell_type": "markdown",
   "id": "8f3fdb71",
   "metadata": {},
   "source": [
    "#### Ищем минимальное значение в словаре\n",
    "с помощью цикла находим кому принадлежит данная сумма\n",
    "ответ Kirsten Dunst"
   ]
  },
  {
   "cell_type": "code",
   "execution_count": 10,
   "id": "abcec791",
   "metadata": {
    "scrolled": true
   },
   "outputs": [
    {
     "name": "stdout",
     "output_type": "stream",
     "text": [
      "Kirsten Dunst\n"
     ]
    }
   ],
   "source": [
    "name = min(follow.values())\n",
    "\n",
    "\n",
    "for k, v in follow.items(): \n",
    "    if v == name:\n",
    "        print(k)"
   ]
  }
 ],
 "metadata": {
  "kernelspec": {
   "display_name": "Python 3 (ipykernel)",
   "language": "python",
   "name": "python3"
  },
  "language_info": {
   "codemirror_mode": {
    "name": "ipython",
    "version": 3
   },
   "file_extension": ".py",
   "mimetype": "text/x-python",
   "name": "python",
   "nbconvert_exporter": "python",
   "pygments_lexer": "ipython3",
   "version": "3.9.7"
  }
 },
 "nbformat": 4,
 "nbformat_minor": 5
}
