{
 "cells": [
  {
   "cell_type": "markdown",
   "id": "91a62a7c",
   "metadata": {},
   "source": [
    "## Практическая работа №2\n",
    "Напишите программу, которая ищет наибольший (не равный 1) общий \n",
    "делитель двух чисел, введённых пользователем (num1, num2), и выводит его на \n",
    "экран. Если общих делителей нет, выводит на экран \"Общих делителей не \n",
    "найдено\"."
   ]
  },
  {
   "cell_type": "code",
   "execution_count": 74,
   "id": "eb282343",
   "metadata": {},
   "outputs": [
    {
     "name": "stdout",
     "output_type": "stream",
     "text": [
      "-100\n",
      "200\n",
      "100\n"
     ]
    }
   ],
   "source": [
    "num1 = abs(int(input()))\n",
    "num2 = abs(int(input()))\n",
    "values = range(num1,0,-1)\n",
    "for i,value in enumerate(values):\n",
    "    if value == 1:\n",
    "        print('Общих делителей не найдено')\n",
    "        break\n",
    "    elif num1/value == int(num1/value) and num2/value == int(num2/value):\n",
    "        print(value)\n",
    "        break\n",
    "    else:\n",
    "        continue"
   ]
  },
  {
   "cell_type": "markdown",
   "id": "a40025d7",
   "metadata": {},
   "source": [
    "По данному натуральному числу N найдите наибольшую целую \n",
    "степень двойки, не превосходящую N. Выведите показатель степени и саму \n",
    "степень. Операцией возведения в степень пользоваться нельзя"
   ]
  },
  {
   "cell_type": "code",
   "execution_count": 8,
   "id": "e0f09e77",
   "metadata": {},
   "outputs": [
    {
     "name": "stdout",
     "output_type": "stream",
     "text": [
      "-2\n",
      "\n"
     ]
    }
   ],
   "source": [
    "N = int(input())\n",
    "\n",
    "i = 1\n",
    "r = -1\n",
    "while i<=N:\n",
    "    i=i*2\n",
    "    r=r+1\n",
    "if N<=0:\n",
    "    print()\n",
    "else:\n",
    "    print(r)"
   ]
  },
  {
   "cell_type": "markdown",
   "id": "2bea0b4f",
   "metadata": {},
   "source": [
    "## Практическая работа № 3\n",
    "    1. Создание списка.\n",
    "    2. Метод split.\n",
    "    3. Индексация элементов списка. Обращение к элементу списка.\n",
    "    4. Работа со срезами. Границы срезов.\n",
    "    5. Срез с шагом.\n",
    "Напишите программу, которая принимает на вход список чисел в одной \n",
    "строке (через генератор)., насчитывающий N элементов. Поменяйте местами \n",
    "первую и вторую половины списка"
   ]
  },
  {
   "cell_type": "code",
   "execution_count": 64,
   "id": "b838cdcd",
   "metadata": {
    "scrolled": false
   },
   "outputs": [
    {
     "data": {
      "text/plain": [
       "[165,\n",
       " 180,\n",
       " 195,\n",
       " 210,\n",
       " 225,\n",
       " 240,\n",
       " 255,\n",
       " 270,\n",
       " 285,\n",
       " 150,\n",
       " 15,\n",
       " 30,\n",
       " 45,\n",
       " 60,\n",
       " 75,\n",
       " 90,\n",
       " 105,\n",
       " 120,\n",
       " 135]"
      ]
     },
     "execution_count": 64,
     "metadata": {},
     "output_type": "execute_result"
    }
   ],
   "source": [
    "my_list = [x for x in range(10, 300) if x%3 == 0 and x%5 == 0]\n",
    "\n",
    "def reference(list_numbers):\n",
    "    list_new = list_numbers[0:int(len(list_numbers)/2)]\n",
    "    list_numbers[0:int(len(list_numbers)/2)] = list_numbers[int(len(list_numbers)/2+1):len(list_numbers)]\n",
    "    list_numbers[int(len(list_numbers)/2+1):len(list_numbers)] = list_new\n",
    "    return list_numbers\n",
    "    \n",
    "reference(my_list)\n",
    "\n",
    "\n"
   ]
  },
  {
   "cell_type": "code",
   "execution_count": 74,
   "id": "a5031760",
   "metadata": {},
   "outputs": [
    {
     "data": {
      "text/plain": [
       "[90, 75, 60, 45, 30, 15]"
      ]
     },
     "execution_count": 74,
     "metadata": {},
     "output_type": "execute_result"
    }
   ],
   "source": [
    "my_list = [x for x in range(10, 100) if x%3 == 0 and x%5 == 0]\n",
    "my_list.sort(reverse=True)\n",
    "my_list"
   ]
  },
  {
   "cell_type": "code",
   "execution_count": 28,
   "id": "0a5e117e",
   "metadata": {},
   "outputs": [],
   "source": [
    "a = \"afasdkgaglansksdv\""
   ]
  },
  {
   "cell_type": "code",
   "execution_count": 57,
   "id": "e7461ce8",
   "metadata": {},
   "outputs": [
    {
     "name": "stdout",
     "output_type": "stream",
     "text": [
      "a\n",
      "b\n",
      "d\n",
      "sdf\n",
      "s\n"
     ]
    }
   ],
   "source": [
    "a = \"a b d sdf \"\n",
    "p = a.split()\n",
    "p.append('s')\n",
    "\n",
    "for i in range(0,len(p)):\n",
    "    print(p[i])"
   ]
  },
  {
   "cell_type": "markdown",
   "id": "9bed3399",
   "metadata": {},
   "source": [
    "## Практическая работа № 4\n",
    "    1. Создание словаря.\n",
    "    2. Обращение к ключам словаря.\n",
    "    3. Метод setdefault().\n",
    "    4. Перебор элементов словаря: по ключам, по значениям, по ключам и \n",
    "    значениям одновременно.\n",
    "    \n",
    "    1. Вложенные списки.\n",
    "    2. Проход по вложенному списку. Фильтрация.\n",
    "    3. Вложенные словари.\n",
    "    4. Фильтрация вложенных словарей.\n",
    "    \n",
    "    1. JSON-файл. Скачать файл data.json\n",
    "    2. Открытие JSON -файла в Python. Библиотека json и функция open\n",
    "    3. Работа с данными. библиотека Collections метод Counter().\n",
    "    4. Анализ данных.\n",
    "    5. Написать отчет.\n",
    "    6. Написать программу.\n",
    "    7. Выполнить задание.\n",
    "\n",
    "А) Напишите программу, которая анализирует текст на основе словаря, \n",
    "содержащий название дороги и интенсивность движения в сутки и сообщает к \n",
    "какой категории эта дорога относится.\n",
    "Используйте следующую классификацию:\n",
    "• свыше 14000 – IB;\n",
    "• свыше 6000 – II;\n",
    "• свыше 2000 до 6000 – III;\n",
    "• свыше 200 до 2000 – IV;\n",
    "• до 200 – V.\n",
    "\n",
    "В) Выполните на основе набора данных data.json задание:\n",
    "Сколько клиентов совершили действий с категорией (category) = datepicker?"
   ]
  },
  {
   "cell_type": "code",
   "execution_count": 4,
   "id": "77beeab1",
   "metadata": {},
   "outputs": [
    {
     "name": "stdout",
     "output_type": "stream",
     "text": [
      "IB\n"
     ]
    }
   ],
   "source": [
    "CLASSFIC_ROAD = {'IB' : [14000],\n",
    "              'II' : [6000, 14000],\n",
    "              'III' : [2000, 6000],\n",
    "              'IV' : [200, 2000],\n",
    "              'V' : [0, 200]\n",
    "}\n",
    "\n",
    "text = \"Дорога М8, интенсивность движения 14001 автомобилей в сутки.\"\n",
    "\n",
    "def analysing_txt(text, dictionary):\n",
    "    num = []\n",
    "    num = [int(x) for x in text.split() if x.isdigit()] \n",
    "    for i in dictionary:\n",
    "        if num[0] > dictionary.setdefault(i)[0] :\n",
    "            return(i)\n",
    "        elif num[0] == 0:\n",
    "            return ('V')\n",
    "        \n",
    "print(analysing_txt(text, CLASSFIC_ROAD))"
   ]
  },
  {
   "cell_type": "code",
   "execution_count": 23,
   "id": "ad6359b6",
   "metadata": {},
   "outputs": [
    {
     "name": "stdout",
     "output_type": "stream",
     "text": [
      "[]\n"
     ]
    }
   ],
   "source": [
    "text = \"Дорога М8, интенсивность движения свыше -1 автомобилей в сутки.\"\n",
    "\n",
    "num = [int(x) for x in text.split() if x.isdigit()]\n",
    "\n",
    "print(num)"
   ]
  },
  {
   "cell_type": "code",
   "execution_count": 107,
   "id": "4c2da19c",
   "metadata": {},
   "outputs": [
    {
     "name": "stdout",
     "output_type": "stream",
     "text": [
      "['свыше', '14000']\n",
      "['свыше', '6000', 'до', '14000']\n",
      "['свыше', '2000', 'до', '6000']\n",
      "['свыше', '200', 'до', '2000']\n",
      "['до', '200']\n"
     ]
    }
   ],
   "source": [
    "l = list(CLASSFIC_ROAD.keys())\n",
    "for i in range(len(l)):\n",
    "    s = l[i].split()\n",
    "    if  s[0] == 'свыше':\n",
    "        \n",
    "    elif l[i].split() ==     \n",
    "    print()\n",
    "    "
   ]
  },
  {
   "cell_type": "markdown",
   "id": "663359d7",
   "metadata": {},
   "source": [
    "#### Выполните на основе набора данных data.json задание:\n",
    "Сколько клиентов совершили действий с категорией (category) = datepicker?\n"
   ]
  },
  {
   "cell_type": "code",
   "execution_count": 34,
   "id": "84465f57",
   "metadata": {},
   "outputs": [
    {
     "name": "stdout",
     "output_type": "stream",
     "text": [
      "3\n"
     ]
    }
   ],
   "source": [
    "import collections\n",
    "import json\n",
    "\n",
    "id_pick = []\n",
    "datapick =[]\n",
    "with open (\"data.json\", \"r\") as file:\n",
    "    data = json.load(file)\n",
    "    events = data.setdefault(\"events_data\")\n",
    "    c,h = collections.Counter(), collections.Counter()\n",
    "    for i in range(0,len(events)):\n",
    "        if events[i]['category'] == 'datepicker':\n",
    "            id_pick.append(events[i]['client_id'])\n",
    "    for g in id_pick:\n",
    "            c[g]+=1\n",
    "    print(len(c))"
   ]
  },
  {
   "cell_type": "code",
   "execution_count": 12,
   "id": "7dce2b95",
   "metadata": {},
   "outputs": [
    {
     "data": {
      "text/plain": [
       "Counter()"
      ]
     },
     "execution_count": 12,
     "metadata": {},
     "output_type": "execute_result"
    }
   ],
   "source": [
    "c"
   ]
  },
  {
   "cell_type": "code",
   "execution_count": 13,
   "id": "6a5b6361",
   "metadata": {
    "scrolled": true
   },
   "outputs": [
    {
     "name": "stdout",
     "output_type": "stream",
     "text": [
      "[62526, 61944, 27115, 27115, 27115, 27115, 27115, 27115, 27115, 27115, 27115, 27115, 27115, 62017, 63120, 59883, 2913, 62940, 63149, 45391, 18923, 63019, 18923, 18923, 15759, 62007, 62941, 51009, 62236, 44682, 39709, 60459, 62144, 60459, 60459, 60459, 60459, 60459, 60459, 52492, 52492, 60459, 60459, 60459, 60459, 60459, 52492, 18923, 25301, 18923, 33645, 62089, 26705, 1103, 62439, 44196, 62602, 62602, 62602, 62602, 62602, 62602, 62602, 62602, 62602, 62602, 62602, 50149, 57009, 57207, 32792, 27323, 24500, 24500, 58330, 61245, 19799, 56544, 56544, 56544, 56544, 56544, 56544, 56544, 56544, 23207, 23207, 23207, 23207, 48128, 58113, 58113, 58113, 58113, 58113, 58113, 58113, 57613, 61244, 53666, 53018, 53666, 41737, 61078, 20820, 41737, 49700]\n"
     ]
    }
   ],
   "source": [
    "print(id_pick)"
   ]
  },
  {
   "cell_type": "code",
   "execution_count": null,
   "id": "3516c5cb",
   "metadata": {},
   "outputs": [],
   "source": []
  }
 ],
 "metadata": {
  "kernelspec": {
   "display_name": "Python 3 (ipykernel)",
   "language": "python",
   "name": "python3"
  },
  "language_info": {
   "codemirror_mode": {
    "name": "ipython",
    "version": 3
   },
   "file_extension": ".py",
   "mimetype": "text/x-python",
   "name": "python",
   "nbconvert_exporter": "python",
   "pygments_lexer": "ipython3",
   "version": "3.9.7"
  }
 },
 "nbformat": 4,
 "nbformat_minor": 5
}
