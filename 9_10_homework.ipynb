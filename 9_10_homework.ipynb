{
 "cells": [
  {
   "cell_type": "markdown",
   "id": "4f671255",
   "metadata": {},
   "source": [
    "# Отчет выполнения практической работы 9"
   ]
  },
  {
   "cell_type": "code",
   "execution_count": null,
   "id": "346b7fb8",
   "metadata": {},
   "outputs": [],
   "source": [
    "# Основные понятия: случайная величина, наблюдение, генеральная \n",
    "# совокупность и выборка Примеры"
   ]
  },
  {
   "cell_type": "code",
   "execution_count": 1,
   "id": "a60954d9",
   "metadata": {},
   "outputs": [],
   "source": [
    "import matplotlib.pyplot as plt\n",
    "import pandas as pd\n",
    "import numpy as np\n",
    "from pprint import pprint\n",
    "%matplotlib inline"
   ]
  },
  {
   "cell_type": "code",
   "execution_count": 2,
   "id": "ad778683",
   "metadata": {},
   "outputs": [],
   "source": [
    "# Выборочное среднее, истинное среднее. Примеры. Как среднее реагирует \n",
    "# на выбросы?\n",
    "# Медиана. Синтаксис. Примеры. Как медиана реагирует на выбросы?\n",
    "# Мода. Пример.\n",
    "# Квартили. Эксклюзивный метод подсчета квартилей. Примеры"
   ]
  },
  {
   "cell_type": "code",
   "execution_count": 2,
   "id": "6099f2de",
   "metadata": {},
   "outputs": [
    {
     "name": "stdout",
     "output_type": "stream",
     "text": [
      "[34.958333333333336, 189.51992753623188, 13.766623679618466, 0    44\n",
      "dtype: int64, 37.0, 16.0, 28.25, 44.25]\n",
      "[34.958333333333336, 189.51992753623188, 13.766623679618466, 0    44\n",
      "dtype: int64, 37.0, 16.0, 28.25, 44.25]\n"
     ]
    }
   ],
   "source": [
    "myData=pd.Series([4,11,12,20,23,23,30,31,32,33,34,36,\n",
    "38,40,41,44,44,44,45,47,48,49,54,56])\n",
    "\n",
    "mean = myData.mean() # Среднее значение\n",
    "var = myData.var() # Дисперсия\n",
    "std = myData.std()# Стандартное отклонение\n",
    "mode = myData.mode()# Мода – наиболее частое наблюдение\n",
    "median = myData.median()# Медиана (Q2)\n",
    "perc25 = myData.quantile(0.25, interpolation='linear') # Q1\n",
    "perc75 = myData.quantile(0.75, interpolation='linear') # Q3\n",
    "IQR = perc75 - perc25\n",
    "hesh = [mean, var, std, mode, median, IQR,perc25, perc75]\n",
    "print(hesh)\n",
    "pprint(hesh, width=140, compact=False)"
   ]
  },
  {
   "cell_type": "code",
   "execution_count": 3,
   "id": "903dc9d4",
   "metadata": {},
   "outputs": [
    {
     "name": "stdout",
     "output_type": "stream",
     "text": [
      "0     11\n",
      "1     12\n",
      "2     20\n",
      "3     23\n",
      "4     23\n",
      "5     30\n",
      "6     31\n",
      "7     32\n",
      "8     33\n",
      "9     34\n",
      "10    36\n",
      "11    38\n",
      "12    40\n",
      "13    41\n",
      "14    44\n",
      "15    44\n",
      "16    44\n",
      "17    45\n",
      "18    47\n",
      "19    48\n",
      "20    49\n",
      "21    54\n",
      "22    56\n",
      "dtype: Int64\n"
     ]
    }
   ],
   "source": [
    "myData2=[]\n",
    "for g in myData:\n",
    "    if g>=perc25-1.5*IQR and g<=perc75+1.5*IQR:\n",
    "        myData2.append(g)\n",
    "\n",
    "myData2=pd.Series(myData2, dtype='Int64')\n",
    "print(myData2)"
   ]
  },
  {
   "cell_type": "code",
   "execution_count": 5,
   "id": "89141511",
   "metadata": {},
   "outputs": [
    {
     "name": "stdout",
     "output_type": "stream",
     "text": [
      "[36.30434782608695, 152.67588932806325, 12.3562085336912, 0    44\n",
      "dtype: Int64, 38.0, 16.0, 28.25, 44.25]\n"
     ]
    }
   ],
   "source": [
    "mean2 = myData2.mean() # Среднее значение\n",
    "var2 = myData2.var() # Дисперсия\n",
    "std2 = myData2.std()# Стандартное отклонение\n",
    "mode2 = myData2.mode()# Мода – наиболее частое наблюдение\n",
    "median2 = myData2.median()# Медиана (Q2)\n",
    "hesh2 = [mean2, var2, std2, mode2, median2, IQR,perc25, perc75]\n",
    "print(hesh2)"
   ]
  },
  {
   "cell_type": "code",
   "execution_count": 6,
   "id": "ec8ac3a8",
   "metadata": {},
   "outputs": [],
   "source": [
    "# Меры разброса: межквартильный размах. Примеры.\n",
    "# Меры разброса: стандартное отклонение. Примеры\n",
    "# Метод plot. Настройка параметров метода. Характеристики графика \n",
    "# Постройте графики и опишите их характеристики\n",
    "# Ко всему датафрейму Гистограмма распределения признака\n",
    "# к одному столбцу"
   ]
  },
  {
   "cell_type": "code",
   "execution_count": 4,
   "id": "cee26d14",
   "metadata": {},
   "outputs": [
    {
     "data": {
      "text/html": [
       "<div>\n",
       "<style scoped>\n",
       "    .dataframe tbody tr th:only-of-type {\n",
       "        vertical-align: middle;\n",
       "    }\n",
       "\n",
       "    .dataframe tbody tr th {\n",
       "        vertical-align: top;\n",
       "    }\n",
       "\n",
       "    .dataframe thead th {\n",
       "        text-align: right;\n",
       "    }\n",
       "</style>\n",
       "<table border=\"1\" class=\"dataframe\">\n",
       "  <thead>\n",
       "    <tr style=\"text-align: right;\">\n",
       "      <th></th>\n",
       "      <th>total_bill</th>\n",
       "      <th>tip</th>\n",
       "      <th>sex</th>\n",
       "      <th>smoker</th>\n",
       "      <th>day</th>\n",
       "      <th>time</th>\n",
       "      <th>size</th>\n",
       "    </tr>\n",
       "  </thead>\n",
       "  <tbody>\n",
       "    <tr>\n",
       "      <th>0</th>\n",
       "      <td>16.99</td>\n",
       "      <td>1.01</td>\n",
       "      <td>Female</td>\n",
       "      <td>No</td>\n",
       "      <td>Sun</td>\n",
       "      <td>Dinner</td>\n",
       "      <td>2</td>\n",
       "    </tr>\n",
       "    <tr>\n",
       "      <th>1</th>\n",
       "      <td>10.34</td>\n",
       "      <td>1.66</td>\n",
       "      <td>Male</td>\n",
       "      <td>No</td>\n",
       "      <td>Sun</td>\n",
       "      <td>Dinner</td>\n",
       "      <td>3</td>\n",
       "    </tr>\n",
       "    <tr>\n",
       "      <th>2</th>\n",
       "      <td>21.01</td>\n",
       "      <td>3.50</td>\n",
       "      <td>Male</td>\n",
       "      <td>No</td>\n",
       "      <td>Sun</td>\n",
       "      <td>Dinner</td>\n",
       "      <td>3</td>\n",
       "    </tr>\n",
       "    <tr>\n",
       "      <th>3</th>\n",
       "      <td>23.68</td>\n",
       "      <td>3.31</td>\n",
       "      <td>Male</td>\n",
       "      <td>No</td>\n",
       "      <td>Sun</td>\n",
       "      <td>Dinner</td>\n",
       "      <td>2</td>\n",
       "    </tr>\n",
       "    <tr>\n",
       "      <th>4</th>\n",
       "      <td>24.59</td>\n",
       "      <td>3.61</td>\n",
       "      <td>Female</td>\n",
       "      <td>No</td>\n",
       "      <td>Sun</td>\n",
       "      <td>Dinner</td>\n",
       "      <td>4</td>\n",
       "    </tr>\n",
       "  </tbody>\n",
       "</table>\n",
       "</div>"
      ],
      "text/plain": [
       "   total_bill   tip     sex smoker  day    time  size\n",
       "0       16.99  1.01  Female     No  Sun  Dinner     2\n",
       "1       10.34  1.66    Male     No  Sun  Dinner     3\n",
       "2       21.01  3.50    Male     No  Sun  Dinner     3\n",
       "3       23.68  3.31    Male     No  Sun  Dinner     2\n",
       "4       24.59  3.61  Female     No  Sun  Dinner     4"
      ]
     },
     "execution_count": 4,
     "metadata": {},
     "output_type": "execute_result"
    }
   ],
   "source": [
    "df = pd.read_csv('tips.csv')\n",
    "df.head()\n"
   ]
  },
  {
   "cell_type": "code",
   "execution_count": 5,
   "id": "b1e35090",
   "metadata": {},
   "outputs": [
    {
     "data": {
      "text/plain": [
       "<Axes:title={'center':'Общая сумма счета'}, ylabel='Frequency'>"
      ]
     },
     "execution_count": 5,
     "metadata": {},
     "output_type": "execute_result"
    },
    {
     "data": {
      "image/png": "[encoded data removed]",
      "text/plain": [
       "<Figure size 432x288 with 1 Axes>"
      ]
     },
     "metadata": {
      "needs_background": "light"
     },
     "output_type": "display_data"
    }
   ],
   "source": [
    "fig = plt.figure()\n",
    "axes = fig.add_axes([0,0,1,1])\n",
    "axes.hist(df['total_bill'])\n",
    "\n",
    "df['total_bill'].plot(kind='hist',grid=True,\n",
    "title='Общая сумма счета')"
   ]
  },
  {
   "cell_type": "code",
   "execution_count": 9,
   "id": "7c5e4aaf",
   "metadata": {},
   "outputs": [
    {
     "data": {
      "text/plain": [
       "<AxesSubplot:title={'center':'Каждый день как день рождения'}>"
      ]
     },
     "execution_count": 9,
     "metadata": {},
     "output_type": "execute_result"
    },
    {
     "data": {
      "image/png": "[encoded data removed]",
      "text/plain": [
       "<Figure size 432x288 with 1 Axes>"
      ]
     },
     "metadata": {
      "needs_background": "light"
     },
     "output_type": "display_data"
    }
   ],
   "source": [
    "df['day'].value_counts().plot(kind='bar', grid=True,\n",
    "              color='gold',title='Каждый день как день рождения')"
   ]
  },
  {
   "cell_type": "code",
   "execution_count": 6,
   "id": "23fad2ef",
   "metadata": {},
   "outputs": [
    {
     "data": {
      "text/plain": [
       "<seaborn.axisgrid.FacetGrid at 0x27d97892a00>"
      ]
     },
     "execution_count": 6,
     "metadata": {},
     "output_type": "execute_result"
    },
    {
     "data": {
      "image/png": "[encoded data removed]",
      "text/plain": [
       "<Figure size 360x360 with 1 Axes>"
      ]
     },
     "metadata": {},
     "output_type": "display_data"
    }
   ],
   "source": [
    "import seaborn as sns\n",
    "\n",
    "sns.set()\n",
    "sns.displot(df['total_bill'])\n"
   ]
  },
  {
   "cell_type": "code",
   "execution_count": 7,
   "id": "bf783f7d",
   "metadata": {},
   "outputs": [
    {
     "data": {
      "text/plain": [
       "<seaborn.axisgrid.PairGrid at 0x27d9a16aeb0>"
      ]
     },
     "execution_count": 7,
     "metadata": {},
     "output_type": "execute_result"
    },
    {
     "data": {
      "image/png": "[encoded data removed]",
      "text/plain": [
       "<Figure size 540x540 with 12 Axes>"
      ]
     },
     "metadata": {},
     "output_type": "display_data"
    }
   ],
   "source": [
    "sns.pairplot(df)"
   ]
  },
  {
   "cell_type": "code",
   "execution_count": 12,
   "id": "85c5ecc4",
   "metadata": {},
   "outputs": [],
   "source": [
    "# Метод plot с категориальными (нечисловыми) переменными\n",
    "# Постройте графики и опишите их характеристики\n",
    "# Отображение двух показателей на графике.\n",
    "# Постройте графики и опишите их характеристики"
   ]
  },
  {
   "cell_type": "code",
   "execution_count": 13,
   "id": "79524657",
   "metadata": {},
   "outputs": [],
   "source": [
    "# Библиотека Matplotlib модуль pyplot . Методы axes() и hist()\n",
    "# Форматирование графика: заголовок диаграммы, подписи осей, легенда.\n",
    "# Постройте графики и опишите их характеристики"
   ]
  },
  {
   "cell_type": "code",
   "execution_count": 14,
   "id": "29b42cfc",
   "metadata": {},
   "outputs": [],
   "source": [
    "# Графическая библиотека Seaborn\n",
    "# Метод distplot(). Синтаксис. Пример\n",
    "# Описание\n",
    "# Метод countplot().Синтаксис. Пример"
   ]
  },
  {
   "cell_type": "code",
   "execution_count": 15,
   "id": "7f130bd3",
   "metadata": {},
   "outputs": [],
   "source": [
    "# Описание\n",
    "# Метод boxplots().Синтаксис. Пример\n",
    "# Описание\n",
    "# Метод heatmap(). Синтаксис. Пример\n",
    "# Описание"
   ]
  },
  {
   "cell_type": "code",
   "execution_count": 16,
   "id": "c53b83c7",
   "metadata": {},
   "outputs": [],
   "source": [
    "# Пример задания. Отобразить информацию, чтобы увидеть, как изменялось \n",
    "# распределение сумм чаевых в разные дни недели в зонах для курящих и \n",
    "# некурящих гостей ресторана."
   ]
  },
  {
   "cell_type": "code",
   "execution_count": 46,
   "id": "a43071c2",
   "metadata": {},
   "outputs": [
    {
     "data": {
      "text/plain": [
       "<matplotlib.legend.Legend at 0x27da39a4310>"
      ]
     },
     "execution_count": 46,
     "metadata": {},
     "output_type": "execute_result"
    },
    {
     "data": {
      "image/png": "[encoded data removed]",
      "text/plain": [
       "<Figure size 432x288 with 1 Axes>"
      ]
     },
     "metadata": {
      "needs_background": "light"
     },
     "output_type": "display_data"
    }
   ],
   "source": [
    "from collections import deque\n",
    "import matplotlib.pyplot as plt\n",
    "import pandas as pd\n",
    "import numpy as np\n",
    "import seaborn as sns\n",
    "%matplotlib inline\n",
    "\n",
    "df = pd.read_csv('tips.csv')\n",
    "bills_per_day = df['day'].value_counts() # посчитали кол-во дней\n",
    "bills_per_day['day']=bills_per_day.index\n",
    "days = deque(bills_per_day['day']) # передвинули начало недели на 1 день назад\n",
    "days.rotate(1)\n",
    "\n",
    "tip_no_smoke = df.groupby('smoker').get_group('No') # создали датаФрейм для некурящих\n",
    "tip_smoke = df.groupby('smoker').get_group('Yes') # то же для курящих\n",
    "\n",
    "nosmokers = tip_no_smoke.groupby('day').agg({'tip':'sum'}) # Расфасовали суммы чаевых по дням недели для не курящих \n",
    "smokers = tip_smoke.groupby('day').agg({'tip':'sum'}) #то же\n",
    "bills_per_day['nosmokers'] = nosmokers['tip'] \n",
    "bills_per_day['smokers'] = smokers['tip']\n",
    "\n",
    "fig = plt.figure()\n",
    "axes = fig.add_axes([0,0,2,2])\n",
    "axes.bar(x= days,                     # Форма графика по х = дни недели, y= сумма чаевых\n",
    "height=bills_per_day['nosmokers'],\n",
    "width = 0.4,\n",
    "align = 'center',\n",
    "color = 'k',\n",
    "label='Чаевые от некурящих')\n",
    "axes.bar(x= days,\n",
    "height=bills_per_day['smokers'],\n",
    "width = 0.4,\n",
    "align = 'edge',\n",
    "color = 'pink',\n",
    "label='Чаевые от курящих')\n",
    "axes.legend(loc=0)"
   ]
  },
  {
   "cell_type": "code",
   "execution_count": 25,
   "id": "505495c7",
   "metadata": {},
   "outputs": [
    {
     "data": {
      "text/plain": [
       "(         tip\n",
       " day         \n",
       " Fri    11.25\n",
       " Sat   139.63\n",
       " Sun   180.57\n",
       " Thur  120.32,\n",
       "          tip\n",
       " day         \n",
       " Fri    40.71\n",
       " Sat   120.77\n",
       " Sun    66.82\n",
       " Thur   51.51)"
      ]
     },
     "execution_count": 25,
     "metadata": {},
     "output_type": "execute_result"
    }
   ],
   "source": [
    "nosmokers, smokers"
   ]
  },
  {
   "cell_type": "code",
   "execution_count": 55,
   "id": "9835e69e",
   "metadata": {},
   "outputs": [
    {
     "data": {
      "text/plain": [
       "Sun                                                         76\n",
       "Sat                                                         87\n",
       "Thur                                                        62\n",
       "Fri                                                         19\n",
       "day          Index(['Sun', 'Sat', 'Thur', 'Fri'], dtype='ob...\n",
       "nosmokers    day\n",
       "Sun     180.57\n",
       "Sat     139.63\n",
       "Thur    120....\n",
       "smokers      day\n",
       "Fri      40.71\n",
       "Sat     120.77\n",
       "Sun      66....\n",
       "Name: day, dtype: object"
      ]
     },
     "execution_count": 55,
     "metadata": {},
     "output_type": "execute_result"
    }
   ],
   "source": [
    "bills_per_day"
   ]
  },
  {
   "cell_type": "code",
   "execution_count": null,
   "id": "fd8a0425",
   "metadata": {},
   "outputs": [],
   "source": []
  }
 ],
 "metadata": {
  "kernelspec": {
   "display_name": "Python 3 (ipykernel)",
   "language": "python",
   "name": "python3"
  },
  "language_info": {
   "codemirror_mode": {
    "name": "ipython",
    "version": 3
   },
   "file_extension": ".py",
   "mimetype": "text/x-python",
   "name": "python",
   "nbconvert_exporter": "python",
   "pygments_lexer": "ipython3",
   "version": "3.9.7"
  }
 },
 "nbformat": 4,
 "nbformat_minor": 5
}
