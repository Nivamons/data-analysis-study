{
 "cells": [
  {
   "cell_type": "markdown",
   "id": "047779cd",
   "metadata": {},
   "source": [
    "# Практическая работа №3"
   ]
  },
  {
   "cell_type": "code",
   "execution_count": 1,
   "id": "728be1f9",
   "metadata": {},
   "outputs": [
    {
     "name": "stdout",
     "output_type": "stream",
     "text": [
      "[4, 8, 8, 5, 7, 1, 5]\n"
     ]
    }
   ],
   "source": [
    "my_txt = 'cdsg csdgrwef sdSHJAA? DASFA /DFSDFA \\n asdFA'\n",
    "l = my_txt.split(' ')\n",
    "f = []\n",
    "for i in l:\n",
    "    f.append(len(i))\n",
    "\n",
    "print(f)"
   ]
  },
  {
   "cell_type": "markdown",
   "id": "c1798bf8",
   "metadata": {},
   "source": [
    "# Практическая работа №4\n",
    "Задание А"
   ]
  },
  {
   "cell_type": "code",
   "execution_count": 13,
   "id": "15b52713",
   "metadata": {},
   "outputs": [
    {
     "name": "stdout",
     "output_type": "stream",
     "text": [
      "II категория\n"
     ]
    }
   ],
   "source": [
    "CLASSFIC_ROAD = {'Здания повышенной этажности' : [30],\n",
    "              ' I категория многоэтажных зданий' : [50],\n",
    "              'II категория' : [75],\n",
    "              'III категория' : [100]\n",
    "}\n",
    "\n",
    "text = \"Здание КБ47 имеет высоту 50 метра.\"\n",
    "\n",
    "def analysing_txt(text, dictionary):\n",
    "    num = []\n",
    "    num = [int(x) for x in text.split() if x.isdigit()] \n",
    "    for i in dictionary:\n",
    "        if num[0] < dictionary.setdefault(i)[0] :\n",
    "            return(i)\n",
    "        elif num[0] >= 100:\n",
    "            return ('высотные здания')\n",
    "        \n",
    "print(analysing_txt(text, CLASSFIC_ROAD))"
   ]
  },
  {
   "cell_type": "markdown",
   "id": "f754c936",
   "metadata": {},
   "source": [
    "Задание B"
   ]
  },
  {
   "cell_type": "code",
   "execution_count": 15,
   "id": "9c49a2e4",
   "metadata": {},
   "outputs": [
    {
     "name": "stdout",
     "output_type": "stream",
     "text": [
      "51\n"
     ]
    }
   ],
   "source": [
    "import collections\n",
    "import json\n",
    "\n",
    "id_pick = []\n",
    "with open (\"..//data.json\", \"r\") as file:\n",
    "    data = json.load(file)\n",
    "    events = data.setdefault(\"events_data\")\n",
    "    c = collections.Counter()\n",
    "    for i in range(0,len(events)):\n",
    "        if events[i]['category'] == 'page' or events[i]['category'] =='report':\n",
    "            id_pick.append(events[i]['client_id'])\n",
    "    for g in id_pick:\n",
    "            c[g]+=1\n",
    "    print(len(c))"
   ]
  },
  {
   "cell_type": "markdown",
   "id": "42d72df0",
   "metadata": {},
   "source": [
    "# Практическая работа №5"
   ]
  },
  {
   "cell_type": "code",
   "execution_count": 68,
   "id": "89527b5d",
   "metadata": {},
   "outputs": [
    {
     "name": "stdout",
     "output_type": "stream",
     "text": [
      "[[42 55 77 39]\n",
      " [99 11 61  1]\n",
      " [24 85 26 61]\n",
      " [29  0 99 82]\n",
      " [31 64 13 60]]\n",
      "99\n",
      "0.09 стандартная функция\n",
      "0.48 стандартная функция\n",
      "0.48 собственная программа\n",
      "0.09 собственная программа\n"
     ]
    }
   ],
   "source": [
    "import numpy as np #Библиотека NumPy. Импорт библиотеки\n",
    "#Создание массива. Функции array() и values().\n",
    "\n",
    "F = np.random.randint(0,101,(5,4))\n",
    "print(F)\n",
    "\n",
    "maxim = np.max(F)\n",
    "print(maxim)\n",
    "G = F/maxim\n",
    "var = np.var(G)\n",
    "print(round(var,2), 'стандартная функция')\n",
    "mid = np.mean(G)\n",
    "print(round(mid,2), 'стандартная функция')\n",
    "summ = 0\n",
    "for i in range(len(G)):\n",
    "    for g in range(len(G[i])):\n",
    "        summ+=G[i][g]\n",
    "mean = summ/(len(G)*len(G[0]))\n",
    "print(round(mean,2), 'собственная программа')\n",
    "var_p = 0\n",
    "for i in range(len(G)):\n",
    "    for g in range(len(G[i])):\n",
    "        var_p+=(G[i][g] - mean)**2\n",
    "print(round(var_p/(len(G)*len(G[0])),2), 'собственная программа')"
   ]
  },
  {
   "cell_type": "code",
   "execution_count": null,
   "id": "d3e4ee81",
   "metadata": {},
   "outputs": [],
   "source": []
  },
  {
   "cell_type": "code",
   "execution_count": null,
   "id": "ec307bd1",
   "metadata": {},
   "outputs": [],
   "source": []
  }
 ],
 "metadata": {
  "kernelspec": {
   "display_name": "Python 3 (ipykernel)",
   "language": "python",
   "name": "python3"
  },
  "language_info": {
   "codemirror_mode": {
    "name": "ipython",
    "version": 3
   },
   "file_extension": ".py",
   "mimetype": "text/x-python",
   "name": "python",
   "nbconvert_exporter": "python",
   "pygments_lexer": "ipython3",
   "version": "3.9.7"
  }
 },
 "nbformat": 4,
 "nbformat_minor": 5
}
