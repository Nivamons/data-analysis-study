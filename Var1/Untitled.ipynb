{
 "cells": [
  {
   "cell_type": "code",
   "execution_count": 1,
   "id": "aad774f2",
   "metadata": {},
   "outputs": [
    {
     "name": "stdout",
     "output_type": "stream",
     "text": [
      "                          director  count_all\n",
      "0    Aaron Seltzer|Jason Friedberg          1\n",
      "1                       Adam McKay          6\n",
      "2                    Adam Shankman          8\n",
      "3                     Adam Wingard          1\n",
      "4                      Adrian Lyne          1\n",
      "..                             ...        ...\n",
      "953                   Wong Kar-wai          1\n",
      "954                    Woody Allen          3\n",
      "955                    Xavier Gens          1\n",
      "956                    Zack Snyder          6\n",
      "957                 Zal Batmanglij          1\n",
      "\n",
      "[958 rows x 2 columns]\n",
      "               director      profit\n",
      "239       James Cameron  2544505847\n",
      "3           J.J. Abrams  1868178225\n",
      "0       Colin Trevorrow  1363528810\n",
      "4             James Wan  1316249360\n",
      "971         Joss Whedon  1299557910\n",
      "...                 ...         ...\n",
      "658   Mathieu Kassovitz     2108608\n",
      "1835          Sam Raimi     2008642\n",
      "108        Sarah Gavron     2002420\n",
      "303    Christian Alvart     2000000\n",
      "1045       Oliver Stone     2000000\n",
      "\n",
      "[1478 rows x 2 columns]\n",
      "                          director  count_all\n",
      "0    Aaron Seltzer|Jason Friedberg          1\n",
      "1                       Adam McKay          6\n",
      "2                    Adam Shankman          7\n",
      "3                      Adrian Lyne          1\n",
      "4                        Alan Poul          1\n",
      "..                             ...        ...\n",
      "769              Wolfgang Petersen          3\n",
      "770                   Wong Kar-wai          1\n",
      "771                    Woody Allen          3\n",
      "772                    Xavier Gens          1\n",
      "773                    Zack Snyder          6\n",
      "\n",
      "[774 rows x 2 columns]\n"
     ]
    }
   ],
   "source": [
    "import numpy as np \n",
    "import pandas as pd \n",
    " \n",
    "data = pd.read_csv('../films.csv')\n",
    " \n",
    "ar2 = data.groupby(['director']).size().reset_index()\n",
    "ar2.columns.values[1] = 'count_all'  \n",
    "print(ar2)\n",
    " \n",
    "#Функция подсчета по условию задачи:\n",
    "#def income(data):\n",
    " \n",
    " \n",
    "# Функция feels() и добавление новой колнки profit, где считается прибыль, при помощи создания массива и заполнения им новой колонки\n",
    "def feels(data):\n",
    "    mas = []\n",
    "    for i in range(data['budget'].count()):\n",
    "        mas.append(data.revenue[i] - data.budget[i])\n",
    "    data.insert(2, \"profit\", mas, True)\n",
    "    data = data.sort_values(by='profit', ascending=False)\n",
    "    data = data.drop(data[data['profit'] <= 0].index)\n",
    "    data = data[['director', 'profit']]\n",
    "    return data\n",
    " \n",
    " \n",
    " \n",
    "#Вызов функции\n",
    "data = feels(data)\n",
    "print(data)\n",
    " \n",
    " \n",
    "ar = data.groupby(['director'])['profit'].size().reset_index()\n",
    "ar.columns.values[1] = 'count_all'  \n",
    "print(ar)"
   ]
  },
  {
   "cell_type": "code",
   "execution_count": null,
   "id": "9064526b",
   "metadata": {},
   "outputs": [],
   "source": []
  }
 ],
 "metadata": {
  "kernelspec": {
   "display_name": "Python 3 (ipykernel)",
   "language": "python",
   "name": "python3"
  },
  "language_info": {
   "codemirror_mode": {
    "name": "ipython",
    "version": 3
   },
   "file_extension": ".py",
   "mimetype": "text/x-python",
   "name": "python",
   "nbconvert_exporter": "python",
   "pygments_lexer": "ipython3",
   "version": "3.9.7"
  }
 },
 "nbformat": 4,
 "nbformat_minor": 5
}
