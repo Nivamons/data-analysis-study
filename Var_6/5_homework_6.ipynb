{
 "cells": [
  {
   "cell_type": "markdown",
   "id": "7d46951f",
   "metadata": {},
   "source": [
    "# Практическая работа № 5"
   ]
  },
  {
   "cell_type": "code",
   "execution_count": 24,
   "id": "06aa6ad3",
   "metadata": {},
   "outputs": [
    {
     "name": "stdout",
     "output_type": "stream",
     "text": [
      "[[-4 -4]\n",
      " [-4 -1]\n",
      " [ 4 -3]\n",
      " [-1  2]\n",
      " [ 4 -5]\n",
      " [-1  3]\n",
      " [-5 -5]]\n"
     ]
    }
   ],
   "source": [
    "import numpy as np #Библиотека NumPy. Импорт библиотеки\n",
    "#Создание массива. Функции array() и values().\n",
    "\n",
    "F = np.random.randint(-5,5,(7,2))\n",
    "print(F)"
   ]
  },
  {
   "cell_type": "code",
   "execution_count": 25,
   "id": "c7ee26b9",
   "metadata": {},
   "outputs": [
    {
     "name": "stdout",
     "output_type": "stream",
     "text": [
      "Сумма модулей нечетных отрицательных чисел 21\n",
      "[-1. -3. -1. -5. -1. -5. -5.]\n"
     ]
    }
   ],
   "source": [
    "summ=0\n",
    "M = np.array([])\n",
    "for i in range(0,len(F)):\n",
    "    for g in range(0,len(F[i])):\n",
    "        if F[i][g]<0 and F[i][g]%2!=0:\n",
    "            summ+=np.abs(F[i][g])\n",
    "            M = np.append(M,F[i][g])\n",
    "print('Сумма модулей нечетных отрицательных чисел',summ)\n",
    "print(M)"
   ]
  },
  {
   "cell_type": "code",
   "execution_count": 34,
   "id": "f316f24c",
   "metadata": {
    "scrolled": false
   },
   "outputs": [
    {
     "name": "stdout",
     "output_type": "stream",
     "text": [
      "1.85 Стандартное отклонение матрицы, по формулам\n",
      "1.85 Стандартное отклонение матрицы, стандартная функция\n"
     ]
    }
   ],
   "source": [
    "\n",
    "\n",
    "k=0\n",
    "var_my=0\n",
    "for i in range(len(M)):\n",
    "        var_my += (np.mean(M) - M[i])**2\n",
    "\n",
    "std_my = np.sqrt(var_my/(len(M)))\n",
    "print(round(std_my,2),'Стандартное отклонение матрицы, по формулам')\n",
    "print(round(np.std(M),2),'Стандартное отклонение матрицы, стандартная функция')"
   ]
  },
  {
   "cell_type": "code",
   "execution_count": 42,
   "id": "2db3a128",
   "metadata": {},
   "outputs": [
    {
     "data": {
      "text/plain": [
       "5"
      ]
     },
     "execution_count": 42,
     "metadata": {},
     "output_type": "execute_result"
    }
   ],
   "source": []
  },
  {
   "cell_type": "code",
   "execution_count": 61,
   "id": "64f0d0ab",
   "metadata": {},
   "outputs": [
    {
     "data": {
      "text/plain": [
       "2.5"
      ]
     },
     "execution_count": 61,
     "metadata": {},
     "output_type": "execute_result"
    }
   ],
   "source": []
  },
  {
   "cell_type": "code",
   "execution_count": null,
   "id": "d80975d5",
   "metadata": {},
   "outputs": [],
   "source": []
  }
 ],
 "metadata": {
  "kernelspec": {
   "display_name": "Python 3 (ipykernel)",
   "language": "python",
   "name": "python3"
  },
  "language_info": {
   "codemirror_mode": {
    "name": "ipython",
    "version": 3
   },
   "file_extension": ".py",
   "mimetype": "text/x-python",
   "name": "python",
   "nbconvert_exporter": "python",
   "pygments_lexer": "ipython3",
   "version": "3.9.7"
  }
 },
 "nbformat": 4,
 "nbformat_minor": 5
}
